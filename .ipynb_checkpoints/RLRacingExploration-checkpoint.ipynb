{
 "cells": [
  {
   "cell_type": "code",
   "execution_count": null,
   "metadata": {},
   "outputs": [],
   "source": [
    "import gym\n",
    "import numpy as np\n",
    "import MimicModel\n",
    "import torch\n",
    "import torchvision"
   ]
  },
  {
   "cell_type": "code",
   "execution_count": null,
   "metadata": {},
   "outputs": [],
   "source": [
    "def run_env():\n",
    "    env_name = \"CarRacing-v0\"\n",
    "    env = gym.make(env_name)\n",
    "\n",
    "    data =[]\n",
    "\n",
    "    observation = env.reset()\n",
    "    past_observation = observation\n",
    "    for i in range(10):\n",
    "        past_observation = observation\n",
    "\n",
    "        action = env.action_space.sample()\n",
    "        observation, reward, done, info = env.step(action)\n",
    "\n",
    "        data.append((past_observation,action,observation))\n",
    "\n",
    "\n",
    "    return data"
   ]
  },
  {
   "cell_type": "code",
   "execution_count": null,
   "metadata": {},
   "outputs": [],
   "source": [
    "data = run_env()"
   ]
  },
  {
   "cell_type": "code",
   "execution_count": null,
   "metadata": {},
   "outputs": [],
   "source": [
    "model = MimicModel.MimicNet()\n",
    "for obs,action,next in data:\n",
    "    obs = np.ascontiguousarray([obs])\n",
    "    obs = torch.from_numpy(obs)\n",
    "    obs = obs.view(-1,3,96,96).float()\n",
    "    obs = torchvision.Grayscale(obs)\n",
    "    print(model.encode(obs).shape)"
   ]
  },
  {
   "cell_type": "code",
   "execution_count": null,
   "metadata": {},
   "outputs": [],
   "source": []
  }
 ],
 "metadata": {
  "kernelspec": {
   "display_name": "Python 3",
   "language": "python",
   "name": "python3"
  },
  "language_info": {
   "codemirror_mode": {
    "name": "ipython",
    "version": 3
   },
   "file_extension": ".py",
   "mimetype": "text/x-python",
   "name": "python",
   "nbconvert_exporter": "python",
   "pygments_lexer": "ipython3",
   "version": "3.6.7"
  }
 },
 "nbformat": 4,
 "nbformat_minor": 2
}
